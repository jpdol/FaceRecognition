{
 "cells": [
  {
   "cell_type": "markdown",
   "metadata": {},
   "source": [
    "# Testes - Modelo CNN para Reconhecimento Facial"
   ]
  },
  {
   "cell_type": "markdown",
   "metadata": {},
   "source": [
    "## Bibliotecas"
   ]
  },
  {
   "cell_type": "code",
   "execution_count": 5,
   "metadata": {},
   "outputs": [
    {
     "name": "stderr",
     "output_type": "stream",
     "text": [
      "/Users/jeanlima/anaconda3/lib/python3.6/site-packages/h5py/__init__.py:36: FutureWarning: Conversion of the second argument of issubdtype from `float` to `np.floating` is deprecated. In future, it will be treated as `np.float64 == np.dtype(float).type`.\n",
      "  from ._conv import register_converters as _register_converters\n",
      "Using TensorFlow backend.\n",
      "/Users/jeanlima/anaconda3/lib/python3.6/importlib/_bootstrap.py:219: RuntimeWarning: compiletime version 3.5 of module 'tensorflow.python.framework.fast_tensor_util' does not match runtime version 3.6\n",
      "  return f(*args, **kwds)\n"
     ]
    }
   ],
   "source": [
    "from keras.models import Sequential\n",
    "from keras.layers import Convolution2D, MaxPooling2D, Flatten, Dense, Dropout\n",
    "from keras.preprocessing.image import ImageDataGenerator\n",
    "from keras.layers.advanced_activations import LeakyReLU"
   ]
  },
  {
   "cell_type": "markdown",
   "metadata": {},
   "source": [
    "## Arquitetura da CNN"
   ]
  },
  {
   "cell_type": "code",
   "execution_count": 6,
   "metadata": {},
   "outputs": [],
   "source": [
    "classifier = Sequential()\n",
    "classifier.add(Convolution2D(32, kernel_size=(3, 3),activation='linear',input_shape=(64,64,3),padding='same'))\n",
    "classifier.add(Dropout(0.2))\n",
    "classifier.add(MaxPooling2D((2, 2),padding='same'))\n",
    "classifier.add(Convolution2D(64, (3, 3), activation='linear',padding='same'))\n",
    "classifier.add(MaxPooling2D(pool_size=(2, 2),padding='same'))\n",
    "classifier.add(Convolution2D(128, (3, 3), activation='linear',padding='same'))\n",
    "classifier.add(LeakyReLU(alpha=0.1))  \n",
    "classifier.add(Dropout(0.2))\n",
    "classifier.add(MaxPooling2D(pool_size=(2, 2),padding='same'))\n",
    "classifier.add(Flatten())\n",
    "classifier.add(Dense(128, activation='linear'))\n",
    "classifier.add(Dropout(0.5))\n",
    "classifier.add(LeakyReLU(alpha=0.1))                  \n",
    "classifier.add(Dense(3, activation='softmax'))"
   ]
  },
  {
   "cell_type": "code",
   "execution_count": 7,
   "metadata": {},
   "outputs": [],
   "source": [
    "classifier.compile(optimizer = 'adam', loss = 'categorical_crossentropy', metrics = ['accuracy'])"
   ]
  },
  {
   "cell_type": "markdown",
   "metadata": {},
   "source": [
    "## Dataset"
   ]
  },
  {
   "cell_type": "code",
   "execution_count": 8,
   "metadata": {},
   "outputs": [],
   "source": [
    "train_datagen = ImageDataGenerator(rescale=1./255)\n",
    "\n",
    "test_datagen = ImageDataGenerator(rescale=1./255)"
   ]
  },
  {
   "cell_type": "code",
   "execution_count": 9,
   "metadata": {},
   "outputs": [
    {
     "name": "stdout",
     "output_type": "stream",
     "text": [
      "Found 69 images belonging to 3 classes.\n",
      "Found 10 images belonging to 3 classes.\n"
     ]
    }
   ],
   "source": [
    "training_set = train_datagen.flow_from_directory(\n",
    "        'dataset',\n",
    "        target_size=(64, 64),\n",
    "        batch_size=32,\n",
    "        class_mode='categorical')\n",
    "\n",
    "test_set = test_datagen.flow_from_directory(\n",
    "        'dataset-test',\n",
    "        target_size=(64, 64),\n",
    "        batch_size=32,\n",
    "        class_mode='categorical')"
   ]
  },
  {
   "cell_type": "markdown",
   "metadata": {},
   "source": [
    "## Treino e Teste"
   ]
  },
  {
   "cell_type": "code",
   "execution_count": 10,
   "metadata": {},
   "outputs": [
    {
     "name": "stdout",
     "output_type": "stream",
     "text": [
      "Epoch 1/5\n",
      "8/8 [==============================] - 4s 448ms/step - loss: 0.7643 - acc: 0.6528 - val_loss: 0.1393 - val_acc: 1.0000\n",
      "Epoch 2/5\n",
      "8/8 [==============================] - 2s 233ms/step - loss: 0.0373 - acc: 0.9958 - val_loss: 4.1504e-05 - val_acc: 1.0000\n",
      "Epoch 3/5\n",
      "8/8 [==============================] - 2s 305ms/step - loss: 0.0307 - acc: 0.9879 - val_loss: 8.9110e-06 - val_acc: 1.0000\n",
      "Epoch 4/5\n",
      "8/8 [==============================] - 2s 265ms/step - loss: 0.0492 - acc: 0.9730 - val_loss: 0.0022 - val_acc: 1.0000\n",
      "Epoch 5/5\n",
      "8/8 [==============================] - 2s 305ms/step - loss: 0.0454 - acc: 0.9839 - val_loss: 1.7441e-05 - val_acc: 1.0000\n"
     ]
    }
   ],
   "source": [
    "epochs = 5\n",
    "\n",
    "history = classifier.fit_generator(\n",
    "        training_set,\n",
    "        steps_per_epoch=69//8,\n",
    "        epochs=epochs,\n",
    "        validation_data=test_set,\n",
    "        validation_steps=15//8,\n",
    "        verbose = 1)"
   ]
  },
  {
   "cell_type": "code",
   "execution_count": 12,
   "metadata": {},
   "outputs": [
    {
     "data": {
      "image/png": "[encoded data removed]",
      "text/plain": [
       "<Figure size 432x288 with 1 Axes>"
      ]
     },
     "metadata": {},
     "output_type": "display_data"
    }
   ],
   "source": [
    "import matplotlib.pyplot as plt\n",
    "\n",
    "history_dict = history.history\n",
    "loss_values = history_dict['loss']\n",
    "val_loss_values = history_dict['val_loss']\n",
    "\n",
    "epochs_x = range(1,  epochs+1)\n",
    "plt.plot(epochs_x, loss_values, 'bo', label='Training loss')\n",
    "plt.plot(epochs_x, val_loss_values, 'b', label='Validation loss')\n",
    "plt.title('Training and validation loss')\n",
    "plt.xlabel('Epochs')\n",
    "plt.ylabel('Loss')\n",
    "plt.legend()\n",
    "plt.show()"
   ]
  },
  {
   "cell_type": "code",
   "execution_count": 13,
   "metadata": {},
   "outputs": [
    {
     "data": {
      "image/png": "[encoded data removed]",
      "text/plain": [
       "<Figure size 432x288 with 1 Axes>"
      ]
     },
     "metadata": {},
     "output_type": "display_data"
    }
   ],
   "source": [
    "acc_values = history_dict['acc']\n",
    "val_acc_values = history_dict['val_acc']\n",
    "plt.plot(epochs_x, acc_values, 'bo', label='Training acc')\n",
    "plt.plot(epochs_x, val_acc_values, 'b', label='Validation acc')\n",
    "plt.title('Training and validation accuracy')\n",
    "plt.xlabel('Epochs')\n",
    "plt.ylabel('Loss')\n",
    "plt.legend()\n",
    "plt.show()"
   ]
  },
  {
   "cell_type": "markdown",
   "metadata": {},
   "source": [
    "## Resultados"
   ]
  },
  {
   "cell_type": "code",
   "execution_count": 16,
   "metadata": {},
   "outputs": [
    {
     "name": "stdout",
     "output_type": "stream",
     "text": [
      "Found 15 images belonging to 3 classes.\n",
      "[[5 0 0]\n",
      " [0 5 0]\n",
      " [0 0 5]]\n",
      "              precision    recall  f1-score   support\n",
      "\n",
      "        Jean       1.00      1.00      1.00         5\n",
      "       Karen       1.00      1.00      1.00         5\n",
      "        Thay       1.00      1.00      1.00         5\n",
      "\n",
      "   micro avg       1.00      1.00      1.00        15\n",
      "   macro avg       1.00      1.00      1.00        15\n",
      "weighted avg       1.00      1.00      1.00        15\n",
      "\n"
     ]
    }
   ],
   "source": [
    "import pandas as pd\n",
    "import numpy as np\n",
    "predict_gen = test_datagen.flow_from_directory(directory='dataset-test',\n",
    "                                                              target_size=[64,64],\n",
    "                                                              batch_size=4123,\n",
    "                                                              class_mode='categorical')\n",
    "\n",
    "X_val_sample, res = next(predict_gen)\n",
    "y_pred = classifier.predict(X_val_sample)\n",
    "#classifier.evaluate_generator(test_datagen, steps=1, max_queue_size=10, workers=1, use_multiprocessing=False, verbose=1)\n",
    "onedtrue = []\n",
    "onedpred = []\n",
    "for true, pred in zip(res, y_pred):\n",
    "    onedtrue.append(np.argmax(true))\n",
    "    onedpred.append(np.argmax(pred))\n",
    "    \n",
    "from sklearn.metrics import confusion_matrix\n",
    "print(confusion_matrix(onedtrue, onedpred))\n",
    "\n",
    "from sklearn.metrics import classification_report\n",
    "target_names = ['Jean', 'Karen', 'Thay']\n",
    "\n",
    "print(classification_report(onedtrue, onedpred, target_names=target_names))"
   ]
  },
  {
   "cell_type": "code",
   "execution_count": 7,
   "metadata": {},
   "outputs": [],
   "source": [
    "classifier.save('classifier-100.h5')"
   ]
  },
  {
   "cell_type": "markdown",
   "metadata": {},
   "source": [
    "## Teste - Rotina de Reconhecimento"
   ]
  },
  {
   "cell_type": "code",
   "execution_count": 22,
   "metadata": {},
   "outputs": [
    {
     "name": "stdout",
     "output_type": "stream",
     "text": [
      "Found 1 images belonging to 1 classes.\n",
      "Jean - 0.6562382\n",
      "Found 1 images belonging to 1 classes.\n",
      "Jean - 0.7089095\n",
      "Found 1 images belonging to 1 classes.\n",
      "Jean - 0.76551753\n",
      "Found 1 images belonging to 1 classes.\n",
      "Jean - 0.86719835\n",
      "Found 1 images belonging to 1 classes.\n",
      "Jean - 0.98045427\n",
      "Found 1 images belonging to 1 classes.\n",
      "Thay - 0.99895465\n",
      "Found 1 images belonging to 1 classes.\n",
      "Jean - 0.6571985\n",
      "Found 1 images belonging to 1 classes.\n",
      "Jean - 0.6787315\n",
      "Found 1 images belonging to 1 classes.\n",
      "Jean - 0.6925486\n",
      "Found 1 images belonging to 1 classes.\n",
      "Jean - 0.764894\n",
      "Found 1 images belonging to 1 classes.\n",
      "Jean - 0.54025614\n",
      "Found 1 images belonging to 1 classes.\n",
      "Jean - 0.6858827\n",
      "Found 1 images belonging to 1 classes.\n",
      "Jean - 0.65055656\n",
      "Found 1 images belonging to 1 classes.\n",
      "Jean - 0.6353309\n",
      "Found 1 images belonging to 1 classes.\n",
      "Jean - 0.65264887\n",
      "Found 1 images belonging to 1 classes.\n",
      "Jean - 0.68535954\n",
      "Found 1 images belonging to 1 classes.\n",
      "Jean - 0.656801\n",
      "Found 1 images belonging to 1 classes.\n",
      "Karen - 0.52937585\n",
      "Found 1 images belonging to 1 classes.\n",
      "Jean - 0.6624634\n",
      "Found 1 images belonging to 1 classes.\n",
      "Jean - 0.6526658\n",
      "Found 1 images belonging to 1 classes.\n",
      "Jean - 0.66140324\n",
      "Found 1 images belonging to 1 classes.\n",
      "Jean - 0.84986854\n",
      "Found 1 images belonging to 1 classes.\n",
      "Jean - 0.8749258\n",
      "Found 1 images belonging to 1 classes.\n",
      "Jean - 0.7953051\n",
      "Found 1 images belonging to 1 classes.\n",
      "Jean - 0.8198768\n",
      "Found 1 images belonging to 1 classes.\n",
      "Jean - 0.85626173\n",
      "Found 1 images belonging to 1 classes.\n",
      "Jean - 0.84725565\n",
      "Found 1 images belonging to 1 classes.\n",
      "Jean - 0.7333604\n",
      "Found 1 images belonging to 1 classes.\n",
      "Jean - 0.854542\n",
      "Found 1 images belonging to 1 classes.\n",
      "Jean - 0.7872369\n",
      "Found 1 images belonging to 1 classes.\n",
      "Jean - 0.8153686\n",
      "Found 1 images belonging to 1 classes.\n",
      "Jean - 0.8322139\n",
      "Found 1 images belonging to 1 classes.\n",
      "Jean - 0.91754574\n",
      "Found 1 images belonging to 1 classes.\n",
      "Jean - 0.8600478\n",
      "Found 1 images belonging to 1 classes.\n",
      "Jean - 0.9273155\n",
      "Found 1 images belonging to 1 classes.\n",
      "Jean - 0.9513805\n",
      "Found 1 images belonging to 1 classes.\n",
      "Jean - 0.92738736\n",
      "Found 1 images belonging to 1 classes.\n",
      "Jean - 0.944205\n",
      "Found 1 images belonging to 1 classes.\n",
      "Jean - 0.9304234\n",
      "Found 1 images belonging to 1 classes.\n",
      "Jean - 0.90753615\n",
      "Found 1 images belonging to 1 classes.\n",
      "Jean - 0.862254\n",
      "Found 1 images belonging to 1 classes.\n",
      "Jean - 0.9764633\n",
      "Found 1 images belonging to 1 classes.\n",
      "Jean - 0.97933096\n",
      "Found 1 images belonging to 1 classes.\n",
      "Jean - 0.9476792\n",
      "Found 1 images belonging to 1 classes.\n",
      "Jean - 0.9796091\n",
      "Found 1 images belonging to 1 classes.\n",
      "Jean - 0.9932619\n",
      "Found 1 images belonging to 1 classes.\n",
      "Jean - 0.99370307\n",
      "Found 1 images belonging to 1 classes.\n",
      "Jean - 0.9923584\n",
      "Found 1 images belonging to 1 classes.\n",
      "Jean - 0.9547716\n",
      "Found 1 images belonging to 1 classes.\n",
      "Jean - 0.9706915\n",
      "Found 1 images belonging to 1 classes.\n",
      "Jean - 0.9889641\n",
      "Found 1 images belonging to 1 classes.\n",
      "Jean - 0.99577206\n",
      "Found 1 images belonging to 1 classes.\n",
      "Jean - 0.99509805\n",
      "Found 1 images belonging to 1 classes.\n",
      "Jean - 0.98491454\n",
      "Found 1 images belonging to 1 classes.\n",
      "Jean - 0.9689051\n",
      "Found 1 images belonging to 1 classes.\n",
      "Jean - 0.9940566\n",
      "Found 1 images belonging to 1 classes.\n",
      "Jean - 0.99032557\n",
      "Found 1 images belonging to 1 classes.\n",
      "Jean - 0.9955295\n",
      "Found 1 images belonging to 1 classes.\n",
      "Jean - 0.96433264\n",
      "Found 1 images belonging to 1 classes.\n",
      "Jean - 0.9837282\n",
      "Found 1 images belonging to 1 classes.\n",
      "Jean - 0.98110825\n",
      "Found 1 images belonging to 1 classes.\n",
      "Jean - 0.9831578\n",
      "Found 1 images belonging to 1 classes.\n",
      "Jean - 0.98391694\n",
      "Found 1 images belonging to 1 classes.\n",
      "Jean - 0.9860665\n",
      "Found 1 images belonging to 1 classes.\n",
      "Jean - 0.97800326\n",
      "Found 1 images belonging to 1 classes.\n",
      "Jean - 0.93499494\n"
     ]
    },
    {
     "ename": "KeyboardInterrupt",
     "evalue": "",
     "output_type": "error",
     "traceback": [
      "\u001b[0;31m---------------------------------------------------------------------------\u001b[0m",
      "\u001b[0;31mKeyboardInterrupt\u001b[0m                         Traceback (most recent call last)",
      "\u001b[0;32m<ipython-input-22-c50c885ba921>\u001b[0m in \u001b[0;36m<module>\u001b[0;34m()\u001b[0m\n\u001b[1;32m     19\u001b[0m \u001b[0;32mwhile\u001b[0m\u001b[0;34m(\u001b[0m\u001b[0;32mTrue\u001b[0m\u001b[0;34m)\u001b[0m\u001b[0;34m:\u001b[0m\u001b[0;34m\u001b[0m\u001b[0m\n\u001b[1;32m     20\u001b[0m \u001b[0;34m\u001b[0m\u001b[0m\n\u001b[0;32m---> 21\u001b[0;31m     \u001b[0mret\u001b[0m\u001b[0;34m,\u001b[0m \u001b[0mimg\u001b[0m \u001b[0;34m=\u001b[0m \u001b[0mcam\u001b[0m\u001b[0;34m.\u001b[0m\u001b[0mread\u001b[0m\u001b[0;34m(\u001b[0m\u001b[0;34m)\u001b[0m\u001b[0;34m\u001b[0m\u001b[0m\n\u001b[0m\u001b[1;32m     22\u001b[0m     \u001b[0mimg\u001b[0m \u001b[0;34m=\u001b[0m \u001b[0mcv2\u001b[0m\u001b[0;34m.\u001b[0m\u001b[0mflip\u001b[0m\u001b[0;34m(\u001b[0m\u001b[0mimg\u001b[0m\u001b[0;34m,\u001b[0m \u001b[0;36m1\u001b[0m\u001b[0;34m)\u001b[0m \u001b[0;31m# flip video image vertically\u001b[0m\u001b[0;34m\u001b[0m\u001b[0m\n\u001b[1;32m     23\u001b[0m     \u001b[0mgray\u001b[0m \u001b[0;34m=\u001b[0m \u001b[0mcv2\u001b[0m\u001b[0;34m.\u001b[0m\u001b[0mcvtColor\u001b[0m\u001b[0;34m(\u001b[0m\u001b[0mimg\u001b[0m\u001b[0;34m,\u001b[0m \u001b[0mcv2\u001b[0m\u001b[0;34m.\u001b[0m\u001b[0mCOLOR_BGR2GRAY\u001b[0m\u001b[0;34m)\u001b[0m\u001b[0;34m\u001b[0m\u001b[0m\n",
      "\u001b[0;31mKeyboardInterrupt\u001b[0m: "
     ]
    }
   ],
   "source": [
    "#iniciate id counter\n",
    "id = 0\n",
    "\n",
    "# names related to ids: example ==> Marcelo: id=1,  etc\n",
    "names = ['Jean', 'Karen', 'Thay'] \n",
    "test_datagen = ImageDataGenerator(rescale=1./255)\n",
    "import cv2\n",
    "import os\n",
    "\n",
    "cam = cv2.VideoCapture(0)\n",
    "cam.set(3, 640) # set video width\n",
    "cam.set(4, 480) # set video height\n",
    "\n",
    "# Frontal faces pattern\n",
    "face_detector = cv2.CascadeClassifier('haarcascade_frontalface_default.xml')\n",
    "\n",
    "while(True):\n",
    "\n",
    "    ret, img = cam.read()\n",
    "    img = cv2.flip(img, 1) # flip video image vertically\n",
    "    gray = cv2.cvtColor(img, cv2.COLOR_BGR2GRAY)\n",
    "    faces = face_detector.detectMultiScale(gray, 1.3, 5)\n",
    "\n",
    "    for (x,y,w,h) in faces:\n",
    "\n",
    "        cv2.rectangle(img, (x,y), (x+w,y+h), (255,0,0), 2)     \n",
    "\n",
    "        # Save the captured image into the datasets folder\n",
    "        cv2.imwrite(\"images/img/face.jpg\", gray[y:y+h,x:x+w])\n",
    "#         cv2.imshow('image', img)\n",
    "        \n",
    "        predict_gen = test_datagen.flow_from_directory(directory='images/',\n",
    "                                                              target_size=[64,64],\n",
    "                                                              batch_size=4123,\n",
    "                                                              class_mode='categorical')\n",
    "\n",
    "        X_val_sample, res = next(predict_gen)\n",
    "        y_pred = classifier.predict_proba(X_val_sample)\n",
    "\n",
    "        for i in range(len(y_pred)):\n",
    "            for j in range(len(y_pred[i])):\n",
    "                if (y_pred[i][j]==max(y_pred[i])):\n",
    "                    print(names[j], '-', max(y_pred[i]))\n",
    "        \n",
    "    # Press 'ESC' for exiting video\n",
    "    k = cv2.waitKey(100) & 0xff \n",
    "    if k == 27:\n",
    "        print('ESC')\n",
    "        break\n",
    "\n",
    "cam.release()\n",
    "cv2.destroyAllWindows()"
   ]
  },
  {
   "cell_type": "code",
   "execution_count": 23,
   "metadata": {},
   "outputs": [],
   "source": [
    "cam.release()\n",
    "cv2.destroyAllWindows()"
   ]
  }
 ],
 "metadata": {
  "kernelspec": {
   "display_name": "Python 3",
   "language": "python",
   "name": "python3"
  },
  "language_info": {
   "codemirror_mode": {
    "name": "ipython",
    "version": 3
   },
   "file_extension": ".py",
   "mimetype": "text/x-python",
   "name": "python",
   "nbconvert_exporter": "python",
   "pygments_lexer": "ipython3",
   "version": "3.6.5"
  }
 },
 "nbformat": 4,
 "nbformat_minor": 2
}
